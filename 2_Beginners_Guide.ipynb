{
 "cells": [
  {
   "cell_type": "markdown",
   "metadata": {},
   "source": [
    "# Beginners Guide to Python"
   ]
  },
  {
   "cell_type": "markdown",
   "metadata": {},
   "source": [
    "This guide is aimed at people who haven't done any Python before. If you have some experience with Python we recommend you jump straight to the Flask notebook."
   ]
  },
  {
   "cell_type": "markdown",
   "metadata": {},
   "source": [
    "# Using this notebook\n",
    "\n",
    "This Jupyter notebook provides an interactive environment for running Python code. Notebooks allow you to mix code,\n",
    "figures and text. As such they have become very popular for sharing scientific results and data processing\n",
    "steps. Notebooks also provide an excellent environment for experimenting with new libraries or prototyping code.\n",
    "\n",
    "To run code in this Notebook, enter it in a cell labeled **`In [ ]`** and then hit `Shift + Enter`. Try it with\n",
    "the code in the next cell."
   ]
  },
  {
   "cell_type": "code",
   "execution_count": 23,
   "metadata": {
    "collapsed": false
   },
   "outputs": [
    {
     "name": "stdout",
     "output_type": "stream",
     "text": [
      "Enter your name and hit Enter Robbie\n",
      "Hi Robbie, let's do some Python!\n"
     ]
    }
   ],
   "source": [
    "name = input('Enter your name and hit Enter ')\n",
    "\n",
    "print(\"Hi \" + name + \", let's do some Python!\")"
   ]
  },
  {
   "cell_type": "markdown",
   "metadata": {},
   "source": [
    "After executing a cell you can modify the code and re-execute it. Try changing the message that is printed\n",
    "above and re-executing the cell."
   ]
  },
  {
   "cell_type": "markdown",
   "metadata": {},
   "source": [
    "# Python variables and types\n",
    "\n",
    "Python allows you to store data for re-use in variables. A variable\n",
    "is created by simply entering the name you want to use, followed by\n",
    "an equals sign and then the value of the variable:"
   ]
  },
  {
   "cell_type": "code",
   "execution_count": 84,
   "metadata": {
    "collapsed": false
   },
   "outputs": [],
   "source": [
    "location = 'Australian Synchrotron'\n",
    "\n",
    "answer = 42\n",
    "\n",
    "pi = 3.14159\n",
    "\n",
    "fruit_basket = ['apple', 'banana', 'orange']\n",
    "\n",
    "card = (7, 'hearts')\n",
    "\n",
    "words = {\n",
    "    'aardvark': 'a burrowing, nocturnal mammal native to Africa',\n",
    "    'banana': 'an edible fruit, botanically a berry, produced by several kinds of large flowering plants',\n",
    "    'carbon': 'a chemical element with symbol C and atomic number 6',\n",
    "}"
   ]
  },
  {
   "cell_type": "markdown",
   "metadata": {},
   "source": [
    "Here we have defined variables of different types:\n",
    "\n",
    "* `location` is a `str` (string)\n",
    "* `answer` is an `int` (integer)\n",
    "* `pi` is a `float` (floating point number)\n",
    "* `card` is a `tuple`\n",
    "* `fruit_basket` is a `list` of strings\n",
    "* `words` is a `dict` (dictionary)   "
   ]
  },
  {
   "cell_type": "markdown",
   "metadata": {},
   "source": [
    "Once you have variables defined you can perform operations on them.\n",
    "\n",
    "For example, you an add strings together to produce a longer string:"
   ]
  },
  {
   "cell_type": "code",
   "execution_count": 17,
   "metadata": {
    "collapsed": false
   },
   "outputs": [
    {
     "data": {
      "text/plain": [
       "'Australian Synchrotron, 800 Blackburn Rd'"
      ]
     },
     "execution_count": 17,
     "metadata": {},
     "output_type": "execute_result"
    }
   ],
   "source": [
    "address = '800 Blackburn Rd'\n",
    "location + ', ' + address"
   ]
  },
  {
   "cell_type": "markdown",
   "metadata": {},
   "source": [
    "You can perform arithmetic on numeric types:"
   ]
  },
  {
   "cell_type": "code",
   "execution_count": 19,
   "metadata": {
    "collapsed": false
   },
   "outputs": [
    {
     "data": {
      "text/plain": [
       "5541.76476"
      ]
     },
     "execution_count": 19,
     "metadata": {},
     "output_type": "execute_result"
    }
   ],
   "source": [
    "pi * answer ** 2"
   ]
  },
  {
   "cell_type": "markdown",
   "metadata": {},
   "source": [
    "Note: `x ** y` means \"`x` raised to the power of `y`\"."
   ]
  },
  {
   "cell_type": "markdown",
   "metadata": {},
   "source": [
    "If you try and combine incompatible types you will get an exception:"
   ]
  },
  {
   "cell_type": "code",
   "execution_count": 78,
   "metadata": {
    "collapsed": false
   },
   "outputs": [
    {
     "ename": "TypeError",
     "evalue": "unsupported operand type(s) for +: 'float' and 'list'",
     "output_type": "error",
     "traceback": [
      "\u001b[0;31m---------------------------------------------------------------------------\u001b[0m",
      "\u001b[0;31mTypeError\u001b[0m                                 Traceback (most recent call last)",
      "\u001b[0;32m<ipython-input-78-be00b7bd66be>\u001b[0m in \u001b[0;36m<module>\u001b[0;34m()\u001b[0m\n\u001b[0;32m----> 1\u001b[0;31m \u001b[0mpi\u001b[0m \u001b[0;34m+\u001b[0m \u001b[0mfruit_basket\u001b[0m\u001b[0;34m\u001b[0m\u001b[0m\n\u001b[0m",
      "\u001b[0;31mTypeError\u001b[0m: unsupported operand type(s) for +: 'float' and 'list'"
     ]
    }
   ],
   "source": [
    "pi + fruit_basket"
   ]
  },
  {
   "cell_type": "markdown",
   "metadata": {},
   "source": [
    "## Comments"
   ]
  },
  {
   "cell_type": "markdown",
   "metadata": {},
   "source": [
    "You can comment out code by adding a `#` symbol before it."
   ]
  },
  {
   "cell_type": "code",
   "execution_count": 88,
   "metadata": {
    "collapsed": false
   },
   "outputs": [],
   "source": [
    "# This is a comment\n",
    "\n",
    "\"\"\"\n",
    "This is a multi-line string. These are often used to document\n",
    "python code because they are more readable than having a #\n",
    "at the start of every line.\n",
    "\"\"\"\n",
    "\n",
    "x = 1  # comments can be placed at the end of a line"
   ]
  },
  {
   "cell_type": "markdown",
   "metadata": {},
   "source": [
    "## Conditions and loops"
   ]
  },
  {
   "cell_type": "markdown",
   "metadata": {},
   "source": [
    "Python enables you to specify code that runs only if certain conditions are met with the **`if`** statement:"
   ]
  },
  {
   "cell_type": "code",
   "execution_count": 91,
   "metadata": {
    "collapsed": false
   },
   "outputs": [
    {
     "name": "stdout",
     "output_type": "stream",
     "text": [
      "Mmm... banana\n",
      "We should make a fruit salad!\n",
      "Needs some mango\n"
     ]
    }
   ],
   "source": [
    "if 'banana' in fruit_basket:\n",
    "    print('Mmm... banana')\n",
    "    print('We should make a fruit salad!')\n",
    "\n",
    "\n",
    "if 'mango' not in fruit_basket:\n",
    "    print('Needs some mango')\n",
    "\n",
    "\n",
    "if 'tomato' in fruit_basket:\n",
    "    print('Tomatos are not fruit')"
   ]
  },
  {
   "cell_type": "markdown",
   "metadata": {},
   "source": [
    "Python looks for indentation of 4 spaces to determine which code should be executed if the statement is true.\n",
    "\n",
    "*Tip:* Although indenting with tabs is allowed, if you mix tabs and space you will have a\n",
    "bad time. We recommend configuring your text editor to automatically replace tabs with 4 spaces."
   ]
  },
  {
   "cell_type": "markdown",
   "metadata": {},
   "source": [
    "If the first condition in fails you can try other cases with the **`elif`** statement. To specify code\n",
    "that runs if none of the previous conditions are met you use an **`else`** statement."
   ]
  },
  {
   "cell_type": "code",
   "execution_count": 93,
   "metadata": {
    "collapsed": false
   },
   "outputs": [
    {
     "name": "stdout",
     "output_type": "stream",
     "text": [
      "answer is too small\n"
     ]
    }
   ],
   "source": [
    "answer = 8  # Try changing this value and see what happens\n",
    "\n",
    "if answer < 42:\n",
    "    print('answer is too small')\n",
    "elif answer > 42:\n",
    "    print('answer is too big')"
   ]
  },
  {
   "cell_type": "markdown",
   "metadata": {},
   "source": [
    "### Task:\n",
    "\n",
    "Add an **`else`** statement that prints the answer is correct."
   ]
  },
  {
   "cell_type": "markdown",
   "metadata": {},
   "source": [
    "Python uses **`for`** and **`while`** loops to iterate through collections of items:"
   ]
  },
  {
   "cell_type": "code",
   "execution_count": 89,
   "metadata": {
    "collapsed": false
   },
   "outputs": [
    {
     "name": "stdout",
     "output_type": "stream",
     "text": [
      "I like apple\n",
      "I like banana\n",
      "I like orange\n"
     ]
    }
   ],
   "source": [
    "for fruit in fruit_basket:\n",
    "    print('I like', fruit)"
   ]
  },
  {
   "cell_type": "code",
   "execution_count": 94,
   "metadata": {
    "collapsed": false
   },
   "outputs": [
    {
     "name": "stdout",
     "output_type": "stream",
     "text": [
      "2\n",
      "4\n",
      "8\n",
      "16\n",
      "32\n",
      "64\n"
     ]
    }
   ],
   "source": [
    "n = 2\n",
    "while n < 100:\n",
    "    print(n)\n",
    "    n = n * 2"
   ]
  },
  {
   "cell_type": "markdown",
   "metadata": {},
   "source": [
    "Python has a helpful function for generating numbers numbers:"
   ]
  },
  {
   "cell_type": "code",
   "execution_count": 95,
   "metadata": {
    "collapsed": false
   },
   "outputs": [
    {
     "name": "stdout",
     "output_type": "stream",
     "text": [
      "0 1 2 3 4 "
     ]
    }
   ],
   "source": [
    "for n in range(5):\n",
    "    print(n, end=' ')"
   ]
  },
  {
   "cell_type": "markdown",
   "metadata": {},
   "source": [
    "You can abort out of a python **`for`** loop using the **`break`** statement:"
   ]
  },
  {
   "cell_type": "code",
   "execution_count": 104,
   "metadata": {
    "collapsed": false
   },
   "outputs": [
    {
     "name": "stdout",
     "output_type": "stream",
     "text": [
      "* searching in the definition of banana\n",
      "* searching in the definition of aardvark\n",
      "* searching in the definition of carbon\n",
      "did not find search term\n",
      "all done\n"
     ]
    }
   ],
   "source": [
    "search_term = 'word'\n",
    "\n",
    "for word, definition in words.items():\n",
    "    print('* searching in the definition of', word)\n",
    "    if search_term in definition:\n",
    "        print('found', search_term, 'in the definition of', word)\n",
    "        break\n",
    "else:\n",
    "    # This will execute only if the for loop completes naturally (ie doesn't encounter a break)\n",
    "    print('did not find search term')\n",
    "\n",
    "print('all done')"
   ]
  },
  {
   "cell_type": "markdown",
   "metadata": {},
   "source": [
    "## Functions"
   ]
  },
  {
   "cell_type": "markdown",
   "metadata": {},
   "source": [
    "When you need to perform an operation more than once you can create a function\n",
    "so you don't need to repeat your code:"
   ]
  },
  {
   "cell_type": "code",
   "execution_count": 25,
   "metadata": {
    "collapsed": false
   },
   "outputs": [
    {
     "name": "stdout",
     "output_type": "stream",
     "text": [
      "28.27431\n",
      "78.53975\n",
      "201.06176\n"
     ]
    }
   ],
   "source": [
    "def area(radius):\n",
    "    pi = 3.14159\n",
    "    return pi * radius ** 2\n",
    "\n",
    "print(area(3))\n",
    "\n",
    "print(area(5))\n",
    "\n",
    "print(area(radius=8))"
   ]
  },
  {
   "cell_type": "markdown",
   "metadata": {},
   "source": [
    "Note that variables declared inside the fuction don't effect variables declared outside the function:"
   ]
  },
  {
   "cell_type": "code",
   "execution_count": 29,
   "metadata": {
    "collapsed": false
   },
   "outputs": [
    {
     "name": "stdout",
     "output_type": "stream",
     "text": [
      "calculated area: 314.159\n",
      "radius after: -1\n",
      "pi after: 3\n"
     ]
    }
   ],
   "source": [
    "radius = -1\n",
    "pi = 3\n",
    "a = area(radius=10)\n",
    "\n",
    "print('calculated area:', a)\n",
    "print('radius after:', radius)\n",
    "print('pi after:', pi)"
   ]
  },
  {
   "cell_type": "markdown",
   "metadata": {},
   "source": [
    "Functions can recieve other functions as an argument:"
   ]
  },
  {
   "cell_type": "code",
   "execution_count": 33,
   "metadata": {
    "collapsed": true
   },
   "outputs": [],
   "source": [
    "def add(x, y):\n",
    "    return x + y\n",
    "\n",
    "def multiply(x, y):\n",
    "    return x * y\n",
    "\n",
    "def calculate(function, first_value, second_value):\n",
    "    message = 'calculating {}({}, {})'.format(function.__name__, first_value, second_value)\n",
    "    print(message)\n",
    "    result = function(first_value, second_value)\n",
    "    return result"
   ]
  },
  {
   "cell_type": "code",
   "execution_count": 36,
   "metadata": {
    "collapsed": false
   },
   "outputs": [
    {
     "name": "stdout",
     "output_type": "stream",
     "text": [
      "calculating add(1, 2)\n",
      "3\n",
      "calculating multiply(3, 5)\n",
      "15\n"
     ]
    }
   ],
   "source": [
    "print( calculate(add, 1, 2) )\n",
    "print( calculate(multiply, 3, 5) )"
   ]
  },
  {
   "cell_type": "markdown",
   "metadata": {},
   "source": [
    "### Task\n",
    "\n",
    "Define a function to determine if a number is prime or not. *Hint:* You can get the remainder of `x` divided by `y` with `x % y`."
   ]
  },
  {
   "cell_type": "markdown",
   "metadata": {},
   "source": [
    "## Classes"
   ]
  },
  {
   "cell_type": "markdown",
   "metadata": {},
   "source": [
    "You can define your own data types by creating a **`class`**."
   ]
  },
  {
   "cell_type": "code",
   "execution_count": 67,
   "metadata": {
    "collapsed": true
   },
   "outputs": [],
   "source": [
    "class NumberWithUnits:\n",
    "    def __init__(self, value, units):\n",
    "        self.value = value\n",
    "        self.units = units\n",
    "        \n",
    "    def __repr__(self):\n",
    "        return '<{} {}>'.format(self.value, self.units)\n",
    "    \n",
    "    def double(self):\n",
    "        self.value = self.value * 2\n",
    "        \n",
    "    def __add__(self, other):\n",
    "        print('running __add__')\n",
    "        if self.units != other.units:\n",
    "            raise ValueError('Cannot add {} to {}'.format(self.units, other.units))\n",
    "        value = self.value + other.value\n",
    "        return NumberWithUnits(value, self.units)"
   ]
  },
  {
   "cell_type": "code",
   "execution_count": 68,
   "metadata": {
    "collapsed": false
   },
   "outputs": [
    {
     "name": "stdout",
     "output_type": "stream",
     "text": [
      "<30 mm>\n",
      "<5 mm>\n",
      "<7 K>\n"
     ]
    }
   ],
   "source": [
    "distance_x = NumberWithUnits(30, 'mm')\n",
    "distance_y = NumberWithUnits(5, 'mm')\n",
    "temperature = NumberWithUnits(7, 'K')\n",
    "\n",
    "print(distance_x)\n",
    "print(distance_y)\n",
    "print(temperature)"
   ]
  },
  {
   "cell_type": "markdown",
   "metadata": {},
   "source": [
    "The class is a factory for producing objects with certain properties and behaviours. The\n",
    "objects that are produced (which we assigned to the variables `distance_x`, `distance_y` and `temperature`)\n",
    "are called **instances** of the class."
   ]
  },
  {
   "cell_type": "markdown",
   "metadata": {},
   "source": [
    "In the definition of `NumberWithUnits` we specified that instances would have:\n",
    "\n",
    "* two **attributes**: `value` and `units`\n",
    "* four **methods**: `__init__`, `__repr__`, `double` and `__add__`"
   ]
  },
  {
   "cell_type": "markdown",
   "metadata": {},
   "source": [
    "Attributes are accessed like so:"
   ]
  },
  {
   "cell_type": "code",
   "execution_count": 69,
   "metadata": {
    "collapsed": false
   },
   "outputs": [
    {
     "data": {
      "text/plain": [
       "30"
      ]
     },
     "execution_count": 69,
     "metadata": {},
     "output_type": "execute_result"
    }
   ],
   "source": [
    "distance_x.value"
   ]
  },
  {
   "cell_type": "code",
   "execution_count": 70,
   "metadata": {
    "collapsed": false
   },
   "outputs": [
    {
     "data": {
      "text/plain": [
       "'mm'"
      ]
     },
     "execution_count": 70,
     "metadata": {},
     "output_type": "execute_result"
    }
   ],
   "source": [
    "distance_x.units"
   ]
  },
  {
   "cell_type": "markdown",
   "metadata": {},
   "source": [
    "You can update an attribute just like a variable:"
   ]
  },
  {
   "cell_type": "code",
   "execution_count": 75,
   "metadata": {
    "collapsed": false
   },
   "outputs": [
    {
     "name": "stdout",
     "output_type": "stream",
     "text": [
      "<99 mm>\n"
     ]
    }
   ],
   "source": [
    "distance_x.value = 99\n",
    "print(distance_x)"
   ]
  },
  {
   "cell_type": "markdown",
   "metadata": {},
   "source": [
    "Methods are like functions except that they are invoked on instances of a class.\n",
    "The instance gets passed in as the first argument of the method which, by convention,\n",
    "is given then name \"`self`\"."
   ]
  },
  {
   "cell_type": "code",
   "execution_count": 71,
   "metadata": {
    "collapsed": false
   },
   "outputs": [
    {
     "name": "stdout",
     "output_type": "stream",
     "text": [
      "<7 K>\n",
      "<14 K>\n"
     ]
    }
   ],
   "source": [
    "print(temperature)\n",
    "temperature.double()\n",
    "print(temperature)"
   ]
  },
  {
   "cell_type": "markdown",
   "metadata": {},
   "source": [
    "The methods starting with two underscores are special methods that Python calls on your behalf\n",
    "for certain operations. For example, `__init__` is called when you create a new instance of `NumberWithUnits`.\n",
    "\n",
    "The `__repr__` method is called when Python wants a representation of the instance (eg when you try\n",
    "and print the instance). The `__add__` method is called when you try and add something to the instance:"
   ]
  },
  {
   "cell_type": "code",
   "execution_count": 72,
   "metadata": {
    "collapsed": false
   },
   "outputs": [
    {
     "name": "stdout",
     "output_type": "stream",
     "text": [
      "running __add__\n"
     ]
    },
    {
     "data": {
      "text/plain": [
       "<35 mm>"
      ]
     },
     "execution_count": 72,
     "metadata": {},
     "output_type": "execute_result"
    }
   ],
   "source": [
    "distance_x + distance_y"
   ]
  },
  {
   "cell_type": "code",
   "execution_count": 73,
   "metadata": {
    "collapsed": false
   },
   "outputs": [
    {
     "name": "stdout",
     "output_type": "stream",
     "text": [
      "running __add__\n"
     ]
    },
    {
     "ename": "ValueError",
     "evalue": "Cannot add mm to K",
     "output_type": "error",
     "traceback": [
      "\u001b[0;31m---------------------------------------------------------------------------\u001b[0m",
      "\u001b[0;31mValueError\u001b[0m                                Traceback (most recent call last)",
      "\u001b[0;32m<ipython-input-73-efc24fb35579>\u001b[0m in \u001b[0;36m<module>\u001b[0;34m()\u001b[0m\n\u001b[0;32m----> 1\u001b[0;31m \u001b[0mdistance_x\u001b[0m \u001b[0;34m+\u001b[0m \u001b[0mtemperature\u001b[0m\u001b[0;34m\u001b[0m\u001b[0m\n\u001b[0m",
      "\u001b[0;32m<ipython-input-67-d16fabaa64ce>\u001b[0m in \u001b[0;36m__add__\u001b[0;34m(self, other)\u001b[0m\n\u001b[1;32m     13\u001b[0m         \u001b[0mprint\u001b[0m\u001b[0;34m(\u001b[0m\u001b[0;34m'running __add__'\u001b[0m\u001b[0;34m)\u001b[0m\u001b[0;34m\u001b[0m\u001b[0m\n\u001b[1;32m     14\u001b[0m         \u001b[0;32mif\u001b[0m \u001b[0mself\u001b[0m\u001b[0;34m.\u001b[0m\u001b[0munits\u001b[0m \u001b[0;34m!=\u001b[0m \u001b[0mother\u001b[0m\u001b[0;34m.\u001b[0m\u001b[0munits\u001b[0m\u001b[0;34m:\u001b[0m\u001b[0;34m\u001b[0m\u001b[0m\n\u001b[0;32m---> 15\u001b[0;31m             \u001b[0;32mraise\u001b[0m \u001b[0mValueError\u001b[0m\u001b[0;34m(\u001b[0m\u001b[0;34m'Cannot add {} to {}'\u001b[0m\u001b[0;34m.\u001b[0m\u001b[0mformat\u001b[0m\u001b[0;34m(\u001b[0m\u001b[0mself\u001b[0m\u001b[0;34m.\u001b[0m\u001b[0munits\u001b[0m\u001b[0;34m,\u001b[0m \u001b[0mother\u001b[0m\u001b[0;34m.\u001b[0m\u001b[0munits\u001b[0m\u001b[0;34m)\u001b[0m\u001b[0;34m)\u001b[0m\u001b[0;34m\u001b[0m\u001b[0m\n\u001b[0m\u001b[1;32m     16\u001b[0m         \u001b[0mvalue\u001b[0m \u001b[0;34m=\u001b[0m \u001b[0mself\u001b[0m\u001b[0;34m.\u001b[0m\u001b[0mvalue\u001b[0m \u001b[0;34m+\u001b[0m \u001b[0mother\u001b[0m\u001b[0;34m.\u001b[0m\u001b[0mvalue\u001b[0m\u001b[0;34m\u001b[0m\u001b[0m\n\u001b[1;32m     17\u001b[0m         \u001b[0;32mreturn\u001b[0m \u001b[0mNumberWithUnits\u001b[0m\u001b[0;34m(\u001b[0m\u001b[0mvalue\u001b[0m\u001b[0;34m,\u001b[0m \u001b[0mself\u001b[0m\u001b[0;34m.\u001b[0m\u001b[0munits\u001b[0m\u001b[0;34m)\u001b[0m\u001b[0;34m\u001b[0m\u001b[0m\n",
      "\u001b[0;31mValueError\u001b[0m: Cannot add mm to K"
     ]
    }
   ],
   "source": [
    "distance_x + temperature"
   ]
  },
  {
   "cell_type": "markdown",
   "metadata": {},
   "source": [
    "A full list of these \"double underscore\" special methods is [found in the Python documentation](https://docs.python.org/3/reference/datamodel.html#basic-customization)."
   ]
  },
  {
   "cell_type": "markdown",
   "metadata": {},
   "source": [
    "# Challenge"
   ]
  },
  {
   "cell_type": "markdown",
   "metadata": {},
   "source": [
    "Add a `__mul__` method to support multiplying `NumberWithUnits`."
   ]
  },
  {
   "cell_type": "code",
   "execution_count": null,
   "metadata": {
    "collapsed": true
   },
   "outputs": [],
   "source": []
  }
 ],
 "metadata": {
  "kernelspec": {
   "display_name": "Python 3",
   "language": "python",
   "name": "python3"
  },
  "language_info": {
   "codemirror_mode": {
    "name": "ipython",
    "version": 3
   },
   "file_extension": ".py",
   "mimetype": "text/x-python",
   "name": "python",
   "nbconvert_exporter": "python",
   "pygments_lexer": "ipython3",
   "version": "3.5.2"
  }
 },
 "nbformat": 4,
 "nbformat_minor": 2
}
