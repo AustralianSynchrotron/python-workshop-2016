{
 "cells": [
  {
   "cell_type": "markdown",
   "metadata": {},
   "source": [
    "# Getting Started\n",
    "\n",
    "This notebook can be found at https://github.com/AustralianSynchrotron/python-workshop-2016. Opening it in your browser will make it easier to follow as you can click the urls and copy and paste the commands you need.\n",
    "\n",
    "![](resources/xkcd.png)\n",
    "\n",
    "<div style=\"text-align:center\">https://xkcd.com/353/</div>\n",
    "\n",
    "\n",
    "## Installation\n",
    "\n",
    "### Windows\n",
    "\n",
    "1. Go to http://conda.pydata.org/miniconda.html\n",
    "2. Download the **Python 3.5 64-bit (exe installer)**\n",
    "3. Execute the exe and follow the prompts, accepting the defaults\n",
    "\n",
    "### Mac\n",
    "\n",
    "Run the following commands in your terminal:\n",
    "\n",
    "```\n",
    "curl -O https://repo.continuum.io/miniconda/Miniconda3-latest-MacOSX-x86_64.sh\n",
    "sudo bash Miniconda3-latest-MacOSX-x86_64.sh -b -p /opt/miniconda3\n",
    "sudo chown -R $USER: /opt/miniconda3\n",
    "echo 'export PATH=/opt/miniconda3/bin:$PATH' >> ~/.bash_profile\n",
    "echo 'export LANG=en_US.utf8' >> ~/.bash_profile\n",
    "source ~/.bash_profile\n",
    "```\n",
    "\n",
    "\n",
    "### CentOS\n",
    "\n",
    "Run the following commands in your terminal:\n",
    "\n",
    "```\n",
    "sudo yum -y install bzip2\n",
    "curl -O https://repo.continuum.io/miniconda/Miniconda3-latest-Linux-x86_64.sh\n",
    "sudo bash Miniconda3-latest-Linux-x86_64.sh -b -p /opt/miniconda3\n",
    "sudo chown -R $USER: /opt/miniconda3\n",
    "echo 'export PATH=/opt/miniconda3/bin:$PATH' >> ~/.bashrc\n",
    "echo 'export LANG=en_US.utf8' >> ~/.bash_profile\n",
    "source ~/.bashrc\n",
    "```\n",
    "\n",
    "\n",
    "### Ubuntu\n",
    "\n",
    "Run the following commands in your terminal:\n",
    "\n",
    "```\n",
    "sudo apt-get update\n",
    "sudo apt-get -y install bzip2 curl\n",
    "curl -O https://repo.continuum.io/miniconda/Miniconda3-latest-Linux-x86_64.sh\n",
    "sudo bash Miniconda3-latest-Linux-x86_64.sh -b -p /opt/miniconda3\n",
    "sudo chown -R $USER: /opt/miniconda3\n",
    "echo 'export PATH=/opt/miniconda3/bin:$PATH' >> ~/.bashrc\n",
    "echo 'export LANG=en_US.utf8' >> ~/.bash_profile\n",
    "source ~/.bashrc\n",
    "```"
   ]
  },
  {
   "cell_type": "markdown",
   "metadata": {},
   "source": [
    "## Running Python\n",
    "\n",
    "Once Python is installed, you can test it is working by opening an interactive Python shell.\n",
    "\n",
    "Simply run **`python3`** in your terminal and you should see:\n",
    "\n",
    "```\n",
    "$ python3\n",
    "Python 3.5.2 |Continuum Analytics, Inc.| (default, Jul  2 2016, 17:53:06)\n",
    "[GCC 4.4.7 20120313 (Red Hat 4.4.7-1)] on linux\n",
    "Type \"help\", \"copyright\", \"credits\" or \"license\" for more information.\n",
    ">>>\n",
    "```\n",
    "\n",
    "Try executing the following commands:\n",
    "\n",
    "```\n",
    ">>> print(\"I'm running Python!!!\")\n",
    "I'm running Python!!!\n",
    ">>> from math import pi\n",
    ">>> radius = 30\n",
    ">>> 2 * pi * radius\n",
    "188.49555921538757\n",
    ">>>\n",
    "```"
   ]
  },
  {
   "cell_type": "markdown",
   "metadata": {},
   "source": [
    "## Virtual Environments\n",
    "\n",
    "We recommend always running Python in a virtual environment. This enables you to\n",
    "install packages like Flask and PyEPICS in a sandboxed environment so that they don't\n",
    "alter the primary installation. This will also allow you to easily capture the dependencies\n",
    "of your programs when you are ready to package them."
   ]
  },
  {
   "cell_type": "markdown",
   "metadata": {},
   "source": [
    "### Creating a conda environment\n",
    "\n",
    "In a terminal run:\n",
    "\n",
    "```\n",
    "conda create -n python-workshop python\n",
    "```\n",
    "\n",
    "Then run the following command to start working inside the environment:\n",
    "\n",
    "```\n",
    "activate python-workshop         # on windows\n",
    "source activate python-workshop  # on linux/mac\n",
    "```\n",
    "\n",
    "You can see what is installed with the environment with:\n",
    "\n",
    "```\n",
    "conda list\n",
    "```\n",
    "\n",
    "And install packages with:\n",
    "\n",
    "```\n",
    "conda install <package-name>\n",
    "# or\n",
    "pip install <package-name>\n",
    "```\n",
    "\n",
    "To deactivate the conda environment run:\n",
    "\n",
    "```\n",
    "source deactivate python-workshop\n",
    "```"
   ]
  },
  {
   "cell_type": "markdown",
   "metadata": {},
   "source": [
    "### Demo\n",
    "\n",
    "Let's try installing the `jupyter` and `wikipedia` packages inside our conda environment and using it to fetch a random fact:\n",
    "\n",
    "```\n",
    "$ activate python-workshop  # or \"source activate python-workshop\" if you are on linux/mac\n",
    "(python-workshop) $ conda install jupyter\n",
    "(python-workshop) $ pip install wikipedia\n",
    "(python-workshop) $ ipython\n",
    "(python-workshop) [root@fbb2d815e476 /]# ipython\n",
    "Python 3.5.2 |Continuum Analytics, Inc.| (default, Jul  2 2016, 17:53:06)\n",
    "Type \"copyright\", \"credits\" or \"license\" for more information.\n",
    "\n",
    "IPython 5.1.0 -- An enhanced Interactive Python.\n",
    "?         -> Introduction and overview of IPython's features.\n",
    "%quickref -> Quick reference.\n",
    "help      -> Python's own help system.\n",
    "object?   -> Details about 'object', use 'object??' for extra details.\n",
    "\n",
    "In [1]: import wikipedia\n",
    "\n",
    "In [2]: print(wikipedia.summary(wikipedia.random()))\n",
    "Nemertodermatida is a class of Acoelomorph worms, comprising about ten species of millimetre-sized 'tubellariform', mostly interstitial worms.\n",
    "\n",
    "In [3]:\n",
    "```"
   ]
  },
  {
   "cell_type": "markdown",
   "metadata": {},
   "source": [
    "### Why do we use `conda` to install `jupyter` and `pip` to install `wikipedia`?\n",
    "\n",
    "Most Python packages contain only Python code and can be installed with `pip`. However some packages use compiled C code to improve performance. Historically these have been difficult to install on Windows because you would need a compiler like Visual Studio installed. The `conda` package repository solved this problem by pre-compiling many packages for Windows.\n",
    "\n",
    "So a good strategy for installing packages is:\n",
    "\n",
    "1. Try **`conda install <package-name>`**\n",
    "2. If `conda` reports there is no package available run **`pip install <package-name>`**"
   ]
  },
  {
   "cell_type": "markdown",
   "metadata": {},
   "source": [
    "### Why did we run `ipython` instead of `python`?\n",
    "\n",
    "`ipython` is an enhanced Python interactive shell that adds things like syntax highlighting, tab completion and recording a history of executed commands. `ipython` comes as part of the `jupyter` package."
   ]
  },
  {
   "cell_type": "markdown",
   "metadata": {
    "collapsed": true
   },
   "source": [
    "## Running these notebooks\n",
    "\n",
    "1. Go to https://github.com/AustralianSynchrotron/python-workshop-2016\n",
    "2. Click \"Clone or download\" and then \"Download ZIP\".\n",
    "3. Extract the zip file.\n",
    "4. In your terminal, change directory to the `python-workshop-2016-master` folder.\n",
    "5. Run `activate python-workshop` (windows) / `source activate python-workshop` (linux/mac)\n",
    "6. Run `jupyter notebook` and a browser window should open where you can click on the notebooks for each topic."
   ]
  },
  {
   "cell_type": "markdown",
   "metadata": {},
   "source": [
    "## What next?\n",
    "\n",
    "If you are new to Python, check out our [Beginners Guide](2_Beginners_Guide.ipynb). Otherwise, skip straight\n",
    "to the notebook of the current session."
   ]
  },
  {
   "cell_type": "code",
   "execution_count": null,
   "metadata": {
    "collapsed": true
   },
   "outputs": [],
   "source": []
  }
 ],
 "metadata": {
  "kernelspec": {
   "display_name": "Python 3",
   "language": "python",
   "name": "python3"
  },
  "language_info": {
   "codemirror_mode": {
    "name": "ipython",
    "version": 3
   },
   "file_extension": ".py",
   "mimetype": "text/x-python",
   "name": "python",
   "nbconvert_exporter": "python",
   "pygments_lexer": "ipython3",
   "version": "3.5.2"
  }
 },
 "nbformat": 4,
 "nbformat_minor": 2
}
