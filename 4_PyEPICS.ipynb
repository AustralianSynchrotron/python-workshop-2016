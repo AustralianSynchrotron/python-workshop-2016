{
 "cells": [
  {
   "cell_type": "markdown",
   "metadata": {
    "slideshow": {
     "slide_type": "slide"
    }
   },
   "source": [
    "# Why PyEPICS?\n",
    "\n",
    "* Easy to learn\n",
    "* Highly readable syntax\n",
    "* Powerful features\n",
    "* Widely used at many research facilities\n",
    "\n",
    "### PyEPICS enables you to...\n",
    "\n",
    "* Quickly access data from EPICS PVs in convenient formats (eg numpy arrays)\n",
    "* Easily create Python representations of physical devices\n",
    "* Automate interactions with multiple devices\n",
    "* Avoid the low-level details of the channel access protocol and focus on your application"
   ]
  },
  {
   "cell_type": "markdown",
   "metadata": {
    "slideshow": {
     "slide_type": "slide"
    }
   },
   "source": [
    "# Setup\n",
    "\n",
    "## Requirements\n",
    "\n",
    "Install Miniconda Python 3.5 and create a `python-workshop` conda environment as described in the [Installing Python](1_Installing_Python.ipynb) notebook.\n",
    "\n",
    "## Installing PyEPICS\n",
    "\n",
    "### Windows\n",
    "\n",
    "```\n",
    "activate python-workshop\n",
    "pip install pyepics\n",
    "```\n",
    "\n",
    "### Linux\n",
    "\n",
    "```\n",
    "source activate python-workshop\n",
    "conda install -c lightsource2 pyepics readline=6.2.5\n",
    "export PATH=\"/opt/miniconda3/envs/python-workshop/epics/bin/linux-x86_64:$PATH\"\n",
    "```\n",
    "\n",
    "### macOS\n",
    "\n",
    "1. Install homebrew\n",
    "2. Download and build EPICS base v3.14.12.5\n",
    "3. Add `export EPICS_BASE=/epics/base` and `export EPICS_HOST_ARCH=darwin-x86` to your `~/.bash_profile`\n",
    "4. \n",
    "\n",
    "  ```\n",
    "  source activate python-workshop\n",
    "  pip install pyepics\n",
    "  ```"
   ]
  },
  {
   "cell_type": "markdown",
   "metadata": {
    "slideshow": {
     "slide_type": "-"
    }
   },
   "source": [
    "## Getting started\n",
    "\n",
    "Once you have pyepics installed, install the following packages we will use for this workshop:\n",
    "\n",
    "```\n",
    "# make sure you have the python-workshop conda environment enabled\n",
    "conda install jupyter matplotlib numpy\n",
    "jupyter nbextension enable --py --sys-prefix widgetsnbextension\n",
    "```\n",
    "\n",
    "Run `jupyter notebook` in the folder containing this notebook."
   ]
  },
  {
   "cell_type": "markdown",
   "metadata": {
    "slideshow": {
     "slide_type": "slide"
    }
   },
   "source": [
    "# Let's get some PVs\n",
    "\n",
    "## Load PyEPICS\n",
    "\n",
    "\n",
    "To load PyEPICS, simply **`import epics`**:"
   ]
  },
  {
   "cell_type": "code",
   "execution_count": null,
   "metadata": {
    "collapsed": true
   },
   "outputs": [],
   "source": [
    "import epics"
   ]
  },
  {
   "cell_type": "markdown",
   "metadata": {},
   "source": [
    "If all went well you should be able to fetch the beam current with `epics.caget`:"
   ]
  },
  {
   "cell_type": "code",
   "execution_count": null,
   "metadata": {
    "collapsed": false
   },
   "outputs": [],
   "source": [
    "epics.caget('SR11BCM01:CURRENT_MONITOR')"
   ]
  },
  {
   "cell_type": "markdown",
   "metadata": {},
   "source": [
    "For this workshop we have created a special IOC generator that will launch a private IOC with some\n",
    "PVs you can poke without worrying about doing any damage to real equipment.\n",
    "\n",
    "Go to http://pythonworkshop.staff.synchrotron.org.au and click the **Launch IOC** button.\n",
    "\n",
    "Copy the prefix at the top of the screen and assign it to a variable in the next cell:"
   ]
  },
  {
   "cell_type": "code",
   "execution_count": null,
   "metadata": {
    "collapsed": true
   },
   "outputs": [],
   "source": [
    "PREFIX = 'GIZMO-20T'  # Replace this with your IOC's prefix"
   ]
  },
  {
   "cell_type": "markdown",
   "metadata": {
    "collapsed": true,
    "slideshow": {
     "slide_type": "fragment"
    }
   },
   "source": [
    "## Creating a PV object\n",
    "\n",
    "Although you can get and set PV values with `caget` and `caput`, PyEPICS offers a more powerful interface\n",
    "that you should always use: `PV` objects. As well as supporting accessing the value of the PV, this interface\n",
    "enables you to access metadata like the units and alarm levels.\n",
    "\n",
    "To create a `PV` variable, import the `PV` class and call it supplying the name of the pv you wish to connect to:"
   ]
  },
  {
   "cell_type": "code",
   "execution_count": null,
   "metadata": {
    "collapsed": false
   },
   "outputs": [],
   "source": [
    "from epics import PV"
   ]
  },
  {
   "cell_type": "code",
   "execution_count": null,
   "metadata": {
    "collapsed": false
   },
   "outputs": [],
   "source": [
    "temperature_pv = PV(PREFIX + ':TEMPERATURE')"
   ]
  },
  {
   "cell_type": "markdown",
   "metadata": {},
   "source": [
    "With `PV` objects you can fetch the values with `.value` or `.get()`:"
   ]
  },
  {
   "cell_type": "code",
   "execution_count": null,
   "metadata": {
    "collapsed": false
   },
   "outputs": [],
   "source": [
    "temperature_pv.value"
   ]
  },
  {
   "cell_type": "code",
   "execution_count": null,
   "metadata": {
    "collapsed": false
   },
   "outputs": [],
   "source": [
    "temperature_pv.get()"
   ]
  },
  {
   "cell_type": "markdown",
   "metadata": {},
   "source": [
    "## Challenge\n",
    "\n",
    "Try getting some of the other PVs listed on `http://pythonworkshop.staff.synchrotron.org.au/iocs/<your-ioc-prefix>`. Don't be surpised if you get unexpected output from the `:LONG_STRING` PV - that will be explained in due time."
   ]
  },
  {
   "cell_type": "markdown",
   "metadata": {
    "slideshow": {
     "slide_type": "slide"
    }
   },
   "source": [
    "## Other PV properties"
   ]
  },
  {
   "cell_type": "markdown",
   "metadata": {},
   "source": [
    "As well as the value, PV objects allow you to access the following attributes on the PV object:\n",
    "\n",
    "* `pv.value`\n",
    "* `pv.char_value`\n",
    "* `pv.status`\n",
    "* `pv.type`\n",
    "* `pv.ftype`\n",
    "* `pv.host`\n",
    "* `pv.count`\n",
    "* `pv.nelm`\n",
    "* `pv.read_access` / `pv.write_access` / `pv.access`\n",
    "* `pv.severity`\n",
    "* `pv.timestamp`\n",
    "* `pv.precision`\n",
    "* `pv.units`\n",
    "* `pv.enum_strs`\n",
    "* `pv.info`\n",
    "* `pv.upper_disp_limit` / `pv.lower_disp_limit`\n",
    "* `pv.upper_alarm_limit` / `pv.lower_alarm_limit`\n",
    "* `pv.upper_warning_limit` / `pv.lower_warning_limit`\n",
    "* `pv.upper_ctrl_limit` / `pv.lower_ctrl_limit`\n",
    "* `pv.put_complete`\n",
    "* `pv.callbacks`\n",
    "* `pv.connection_callbacks`\n",
    "\n",
    "These are described in the PyEPICS documentation: http://cars9.uchicago.edu/software/python/pyepics3/pv.html#attributes"
   ]
  },
  {
   "cell_type": "markdown",
   "metadata": {
    "collapsed": false,
    "slideshow": {
     "slide_type": "fragment"
    }
   },
   "source": [
    "## Challenge\n",
    "\n",
    "1. See if you can determine the units, alarm limits and severity of the temperature PV.\n",
    "2. The severity is an integer with the following meaning:\n",
    "\n",
    "    ```\n",
    "    0 = NO_ALARM\n",
    "    1 = MINOR\n",
    "    2 = MAJOR\n",
    "    3 = INVALID\n",
    "    ```\n",
    "\n",
    "    Write a function that returns a human readable severity for a given PV."
   ]
  },
  {
   "cell_type": "markdown",
   "metadata": {
    "slideshow": {
     "slide_type": "slide"
    }
   },
   "source": [
    "# Getting Stringy PVs"
   ]
  },
  {
   "cell_type": "markdown",
   "metadata": {
    "slideshow": {
     "slide_type": "fragment"
    }
   },
   "source": [
    "EPICS stores strings in several different ways which need to be handled differently in pyepics.\n",
    "\n",
    "* Strings\n",
    "* Character arrays\n",
    "* Enums labels\n",
    "\n",
    "Strings are easy to work with - you can use the `.value` attribute or `.get()` method:"
   ]
  },
  {
   "cell_type": "code",
   "execution_count": null,
   "metadata": {
    "collapsed": false,
    "slideshow": {
     "slide_type": "fragment"
    }
   },
   "outputs": [],
   "source": [
    "short_string_pv = PV(PREFIX + ':SHORT_STRING')"
   ]
  },
  {
   "cell_type": "code",
   "execution_count": null,
   "metadata": {
    "collapsed": false
   },
   "outputs": [],
   "source": [
    "short_string_pv.value"
   ]
  },
  {
   "cell_type": "code",
   "execution_count": null,
   "metadata": {
    "collapsed": false
   },
   "outputs": [],
   "source": [
    "short_string_pv.get()"
   ]
  },
  {
   "cell_type": "markdown",
   "metadata": {
    "collapsed": false,
    "slideshow": {
     "slide_type": "fragment"
    }
   },
   "source": [
    "But now try getting the value of the PV ending in `:LONG_STRING`"
   ]
  },
  {
   "cell_type": "code",
   "execution_count": null,
   "metadata": {
    "collapsed": false,
    "slideshow": {
     "slide_type": "fragment"
    }
   },
   "outputs": [],
   "source": [
    "long_string_pv = PV(PREFIX + ':LONG_STRING')"
   ]
  },
  {
   "cell_type": "code",
   "execution_count": null,
   "metadata": {
    "collapsed": false
   },
   "outputs": [],
   "source": [
    "long_string_pv.value"
   ]
  },
  {
   "cell_type": "markdown",
   "metadata": {},
   "source": [
    "Not what we expected! This is because this PV is actually an array of bytes and PyEPICS can't be sure that\n",
    "data is meant to represent a string rather than data from an image, for example.\n",
    "\n",
    "Fortunately PyEPICS makes it easy for us to tell it to get it as a string. Either...\n",
    "\n",
    "1. Use the `.char_value` attribute\n",
    "2. Use the `.get()` method and provide an argument of `as_string=True`"
   ]
  },
  {
   "cell_type": "markdown",
   "metadata": {
    "slideshow": {
     "slide_type": "fragment"
    }
   },
   "source": [
    "### Challenge:\n",
    "\n",
    "Try both methods to get the text stored in the `:LONG_STRING` PV."
   ]
  },
  {
   "cell_type": "code",
   "execution_count": null,
   "metadata": {
    "collapsed": true
   },
   "outputs": [],
   "source": []
  },
  {
   "cell_type": "markdown",
   "metadata": {},
   "source": [
    "The final time you might want a string representation of a PV is for enumeration records that have a number of states.\n",
    "\n",
    "The `:ALERT` PV is an enum... if we ask for it's value we get the index of the state it is in:"
   ]
  },
  {
   "cell_type": "code",
   "execution_count": null,
   "metadata": {
    "collapsed": false
   },
   "outputs": [],
   "source": [
    "alert_pv = PV(PREFIX + ':ALERT')\n",
    "\n",
    "alert_pv.value"
   ]
  },
  {
   "cell_type": "markdown",
   "metadata": {},
   "source": [
    "### Challenge:\n",
    "\n",
    "1. Get the state of the `alert_pv` as a string.\n",
    "2. Use the `.enum_strs` attribute to find out all possible states."
   ]
  },
  {
   "cell_type": "markdown",
   "metadata": {
    "slideshow": {
     "slide_type": "slide"
    }
   },
   "source": [
    "# Arrays and waveforms"
   ]
  },
  {
   "cell_type": "markdown",
   "metadata": {},
   "source": [
    "When you get a waveform PV it is returned as a numpy array:"
   ]
  },
  {
   "cell_type": "code",
   "execution_count": null,
   "metadata": {
    "collapsed": false,
    "scrolled": true
   },
   "outputs": [],
   "source": [
    "wave_pv = PV(PREFIX + ':WAVE')\n",
    "wave_pv.value[:10]"
   ]
  },
  {
   "cell_type": "markdown",
   "metadata": {},
   "source": [
    "We will be covering `numpy` in more detail in the next workshop but for now, try calling\n",
    "`.min()`, `.max()`, `.mean()`, `.std()` on the `wave_pv.value`."
   ]
  },
  {
   "cell_type": "code",
   "execution_count": null,
   "metadata": {
    "collapsed": false,
    "slideshow": {
     "slide_type": "fragment"
    }
   },
   "outputs": [],
   "source": [
    "%matplotlib inline\n",
    "import matplotlib.pyplot as plt"
   ]
  },
  {
   "cell_type": "markdown",
   "metadata": {},
   "source": [
    "### Challenge\n",
    "\n",
    "Use `plt.plot()` to plot the data from the `:WAVE` PV."
   ]
  },
  {
   "cell_type": "markdown",
   "metadata": {
    "slideshow": {
     "slide_type": "slide"
    }
   },
   "source": [
    "## What happens if a PV doesn't exist"
   ]
  },
  {
   "cell_type": "markdown",
   "metadata": {},
   "source": [
    "PyEPICS has a shortcoming that if you ask for the value of a PV that doesn't exist (eg if the IOC has gone offline), it doesn't raise\n",
    "an error but just returns \"`None`\"."
   ]
  },
  {
   "cell_type": "code",
   "execution_count": null,
   "metadata": {
    "collapsed": false
   },
   "outputs": [],
   "source": [
    "invalid_pv = PV('INVALID_NAME')\n",
    "value = invalid_pv.get()\n",
    "print(value)"
   ]
  },
  {
   "cell_type": "markdown",
   "metadata": {},
   "source": [
    "This means you may need to check the value you get back."
   ]
  },
  {
   "cell_type": "markdown",
   "metadata": {},
   "source": [
    "### Challenge:\n",
    "\n",
    "Use an `if` statement to detect whether the value returned from a PV of your choice is valid (ie not `None`)."
   ]
  },
  {
   "cell_type": "markdown",
   "metadata": {
    "slideshow": {
     "slide_type": "slide"
    }
   },
   "source": [
    "# Setting Values"
   ]
  },
  {
   "cell_type": "markdown",
   "metadata": {},
   "source": [
    "To set values in PyEPICS use `pv.put(the_value)` or assign a value to the `pv.value` attribute.\n",
    "\n",
    "For example:\n",
    "\n",
    "```python\n",
    "pv = PV('SOME_MOTOR:SP')\n",
    "pv.put(8.2)\n",
    "pv.value = 7.3\n",
    "```\n",
    "\n",
    "For enum PVs, you can assign the value using either the state number or state string."
   ]
  },
  {
   "cell_type": "markdown",
   "metadata": {
    "collapsed": true,
    "slideshow": {
     "slide_type": "fragment"
    }
   },
   "source": [
    "### Challenge:\n",
    "\n",
    "1. Write values to \"`PREFIX + ':SETPOINT'`\" and observe the value changing at `http://pythonworkshop.staff.synchrotron.org.au/iocs/<your-ioc-prefix>`.\n",
    "2. Try driving \"`PREFIX + ':SETPOINT'`\" beyond its \"drive high\" limit of 10.\n",
    "3. Set the \"`PREFIX + ':ALERT'`\" enum PV to one of the states from the `enum_strs`."
   ]
  },
  {
   "cell_type": "markdown",
   "metadata": {
    "slideshow": {
     "slide_type": "slide"
    }
   },
   "source": [
    "# Callback functions\n",
    "\n",
    "Callback functions are used to receive notifications when PVs state changes. For example:\n",
    "\n",
    "* When the PV value changes\n",
    "* When the PV connects or disconnects\n",
    "* When the alarm severity changes"
   ]
  },
  {
   "cell_type": "markdown",
   "metadata": {
    "slideshow": {
     "slide_type": "slide"
    }
   },
   "source": [
    "## Value callbacks"
   ]
  },
  {
   "cell_type": "markdown",
   "metadata": {},
   "source": [
    "To register a value callback you define a regular Python function that accepts a long list of\n",
    "arguments that are [listed in the PyEPICS documentation](http://cars9.uchicago.edu/software/python/pyepics3/pv.html#user-supplied-callback-functions). Fortunately\n",
    "Python has a convenient syntax for catching all the arguments that you aren't really interested in\n",
    "into a dictonary. You simply prefix the final argument in your function definition with two asterisks:"
   ]
  },
  {
   "cell_type": "code",
   "execution_count": null,
   "metadata": {
    "collapsed": false
   },
   "outputs": [],
   "source": [
    "def example_function(x, **other_arguments_i_dont_care_about):\n",
    "    print('x:', x)\n",
    "    print('everything else:', other_arguments_i_dont_care_about)\n",
    "    \n",
    "example_function(x=1, y=2, z=3)"
   ]
  },
  {
   "cell_type": "markdown",
   "metadata": {},
   "source": [
    "This enables us to define a callback function such as:"
   ]
  },
  {
   "cell_type": "code",
   "execution_count": null,
   "metadata": {
    "collapsed": false,
    "slideshow": {
     "slide_type": "fragment"
    }
   },
   "outputs": [],
   "source": [
    "import ipywidgets\n",
    "from IPython.display import display\n",
    "\n",
    "textbox = ipywidgets.Textarea()\n",
    "display(textbox)\n",
    "\n",
    "def handle_value_update(pvname, value, **other_params):\n",
    "    #print(pvname, value, flush=True)\n",
    "    textbox.value = '{}\\n{}\\n{}'.format(pvname, value, other_params['severity'])"
   ]
  },
  {
   "cell_type": "markdown",
   "metadata": {
    "slideshow": {
     "slide_type": "fragment"
    }
   },
   "source": [
    "#### Add the callback to the PV"
   ]
  },
  {
   "cell_type": "code",
   "execution_count": null,
   "metadata": {
    "collapsed": false,
    "slideshow": {
     "slide_type": "-"
    }
   },
   "outputs": [],
   "source": [
    "pv = PV(PREFIX + ':TEMPERATURE', callback=handle_value_update)"
   ]
  },
  {
   "cell_type": "markdown",
   "metadata": {
    "slideshow": {
     "slide_type": "fragment"
    }
   },
   "source": [
    "#### Remove callbacks"
   ]
  },
  {
   "cell_type": "code",
   "execution_count": null,
   "metadata": {
    "collapsed": true
   },
   "outputs": [],
   "source": [
    "pv.clear_callbacks()"
   ]
  },
  {
   "cell_type": "markdown",
   "metadata": {
    "slideshow": {
     "slide_type": "slide"
    }
   },
   "source": [
    "### What *not* to do inside callback functions"
   ]
  },
  {
   "cell_type": "markdown",
   "metadata": {
    "slideshow": {
     "slide_type": "fragment"
    }
   },
   "source": [
    "If you try and do any slow operation or certain EPICS operations inside a callback function you\n",
    "can block PyEPICS from processing other callbacks."
   ]
  },
  {
   "cell_type": "markdown",
   "metadata": {
    "slideshow": {
     "slide_type": "slide"
    }
   },
   "source": [
    "## Running a task from a callback:\n",
    "## The *wrong* way"
   ]
  },
  {
   "cell_type": "markdown",
   "metadata": {},
   "source": [
    "Execute the following block and observe that whenever the temperature callback is triggered\n",
    "it blocks `fast_random_callback` from running."
   ]
  },
  {
   "cell_type": "code",
   "execution_count": null,
   "metadata": {
    "collapsed": false,
    "slideshow": {
     "slide_type": "-"
    }
   },
   "outputs": [],
   "source": [
    "from time import sleep\n",
    "\n",
    "fast_random_textbox = ipywidgets.Text()\n",
    "temperature_textbox = ipywidgets.Text()\n",
    "display(fast_random_textbox, temperature_textbox)\n",
    "\n",
    "def fast_random_callback(value, **kwargs):\n",
    "    fast_random_textbox.value = str(value)\n",
    "    \n",
    "def temperature_callback(char_value, **kwargs):\n",
    "    temperature_textbox.value = 'RUNNING SLOW TASK'\n",
    "    sleep(.4)\n",
    "    temperature_textbox.value = 'DONE!'\n",
    "\n",
    "fast_random_pv = PV(PREFIX + ':FAST_RANDOM', callback=fast_random_callback)\n",
    "temperature_pv = PV(PREFIX + ':TEMPERATURE', callback=temperature_callback)"
   ]
  },
  {
   "cell_type": "code",
   "execution_count": null,
   "metadata": {
    "collapsed": true,
    "slideshow": {
     "slide_type": "fragment"
    }
   },
   "outputs": [],
   "source": [
    "fast_random_pv.clear_callbacks()\n",
    "temperature_pv.clear_callbacks()"
   ]
  },
  {
   "cell_type": "markdown",
   "metadata": {
    "slideshow": {
     "slide_type": "slide"
    }
   },
   "source": [
    "# Options"
   ]
  },
  {
   "cell_type": "markdown",
   "metadata": {},
   "source": [
    "When you recieve a callback you should delegate the work to a seperate thread.\n",
    "\n",
    "You can either:\n",
    "\n",
    "* Spawn a new thread from the callback.\n",
    "* Trigger processing on a long running (daemon) thread using a queue or signal. See:\n",
    "\n",
    "    * `queue` package:\n",
    "    https://docs.python.org/3/library/queue.html\n",
    "    * `threading` package: https://docs.python.org/3/library/threading.html"
   ]
  },
  {
   "cell_type": "markdown",
   "metadata": {
    "slideshow": {
     "slide_type": "slide"
    }
   },
   "source": [
    "## Running a task from a callback: The right way!\n",
    "\n",
    "In the next cell we use the `threading` library to run the slow task inside a seperate thread so\n",
    "it doesn't block the PyEPICS callbacks.\n",
    "\n",
    "### `threading.Event`\n",
    "\n",
    "* Enables signalling between threads\n",
    "* Calling `event.wait()` will pause execution until the event is triggered\n",
    "* Calling `event.set()` signals the event has happened, allowing any threads that were waiting for it to run"
   ]
  },
  {
   "cell_type": "code",
   "execution_count": null,
   "metadata": {
    "collapsed": false
   },
   "outputs": [],
   "source": [
    "import threading\n",
    "\n",
    "DO_SLOW_WORK = threading.Event()\n",
    "\n",
    "fast_random_textbox = ipywidgets.Text()\n",
    "temperature_textbox = ipywidgets.Text()\n",
    "display(fast_random_textbox, temperature_textbox)\n",
    "\n",
    "def worker():\n",
    "    while True:\n",
    "        DO_SLOW_WORK.wait()  # <= Blocks until event is triggered\n",
    "        temperature_textbox.value = 'RUNNING SLOW TASK'\n",
    "        sleep(.4)\n",
    "        temperature_textbox.value = 'DONE!'\n",
    "        DO_SLOW_WORK.clear()\n",
    "\n",
    "threading.Thread(target=worker, daemon=True).start()  # start the worker function in a different thread\n",
    "\n",
    "def fast_random_callback(value, **kwargs):\n",
    "    fast_random_textbox.value = str(value)\n",
    "    \n",
    "def temperature_callback(**kwargs):\n",
    "    DO_SLOW_WORK.set()  # delegate to worker\n",
    "\n",
    "fast_random_pv = PV(PREFIX + ':FAST_RANDOM', callback=fast_random_callback)\n",
    "temperature_pv = PV(PREFIX + ':TEMPERATURE', callback=temperature_callback)"
   ]
  },
  {
   "cell_type": "code",
   "execution_count": null,
   "metadata": {
    "collapsed": true
   },
   "outputs": [],
   "source": [
    "fast_random_pv.clear_callbacks()\n",
    "temperature_pv.clear_callbacks()"
   ]
  },
  {
   "cell_type": "markdown",
   "metadata": {
    "slideshow": {
     "slide_type": "slide"
    }
   },
   "source": [
    "## Devices\n",
    "\n",
    "The PyEPICS `Device` class provides a structure for grouping related PVs. For example, a motor may have:\n",
    "\n",
    "* the requested position\n",
    "* the actual position\n",
    "* the requested speed\n",
    "* the current speed\n",
    "* ...\n",
    "\n",
    "All of these can be stored and accessed through a single `Device`."
   ]
  },
  {
   "cell_type": "code",
   "execution_count": null,
   "metadata": {
    "collapsed": false,
    "slideshow": {
     "slide_type": "fragment"
    }
   },
   "outputs": [],
   "source": [
    "demo_device = epics.Device(prefix=PREFIX + ':')\n",
    "print(demo_device)"
   ]
  },
  {
   "cell_type": "code",
   "execution_count": null,
   "metadata": {
    "collapsed": false,
    "slideshow": {
     "slide_type": "fragment"
    }
   },
   "outputs": [],
   "source": [
    "demo_device.TEMPERATURE"
   ]
  },
  {
   "cell_type": "code",
   "execution_count": null,
   "metadata": {
    "collapsed": false,
    "slideshow": {
     "slide_type": "fragment"
    }
   },
   "outputs": [],
   "source": [
    "demo_device.ALERT"
   ]
  },
  {
   "cell_type": "code",
   "execution_count": null,
   "metadata": {
    "collapsed": false,
    "slideshow": {
     "slide_type": "fragment"
    }
   },
   "outputs": [],
   "source": [
    "demo_device.get('ALERT', as_string=True)"
   ]
  },
  {
   "cell_type": "code",
   "execution_count": null,
   "metadata": {
    "collapsed": false,
    "slideshow": {
     "slide_type": "fragment"
    }
   },
   "outputs": [],
   "source": [
    "demo_device.SETPOINT = 8"
   ]
  },
  {
   "cell_type": "markdown",
   "metadata": {
    "slideshow": {
     "slide_type": "slide"
    }
   },
   "source": [
    "# Under the covers"
   ]
  },
  {
   "cell_type": "code",
   "execution_count": null,
   "metadata": {
    "collapsed": false,
    "slideshow": {
     "slide_type": "fragment"
    }
   },
   "outputs": [],
   "source": [
    "print(demo_device)"
   ]
  },
  {
   "cell_type": "code",
   "execution_count": null,
   "metadata": {
    "collapsed": false,
    "slideshow": {
     "slide_type": "fragment"
    }
   },
   "outputs": [],
   "source": [
    "print(demo_device._pvs)"
   ]
  },
  {
   "cell_type": "markdown",
   "metadata": {
    "slideshow": {
     "slide_type": "slide"
    }
   },
   "source": [
    "## Defensive programming with the Device class"
   ]
  },
  {
   "cell_type": "markdown",
   "metadata": {},
   "source": [
    "When you request any attribute on your device, PyEPICS assumes it is a PV and tries to connect to it.\n",
    "If a PV doesn't exist with the name PyEPICS will eventually time out but this could lead to unwanted\n",
    "behavior.\n",
    "\n",
    "We recommend always being explicit about what PVs you want your device to support by\n",
    "specifying an aliases dictionary and **`mutable=False`**:"
   ]
  },
  {
   "cell_type": "code",
   "execution_count": null,
   "metadata": {
    "collapsed": false,
    "slideshow": {
     "slide_type": "-"
    }
   },
   "outputs": [],
   "source": [
    "safe_demo_device = epics.Device(prefix=PREFIX + ':',\n",
    "                                aliases={'target': 'SETPOINT',\n",
    "                                         'value': 'READBACK',\n",
    "                                         'temperature': 'TEMPERATURE'},\n",
    "                                mutable=False)\n",
    "print(safe_demo_device)"
   ]
  },
  {
   "cell_type": "code",
   "execution_count": null,
   "metadata": {
    "collapsed": true
   },
   "outputs": [],
   "source": [
    "safe_demo_device.target = 1.5"
   ]
  },
  {
   "cell_type": "code",
   "execution_count": null,
   "metadata": {
    "collapsed": false
   },
   "outputs": [],
   "source": [
    "safe_demo_device.invalid_name  # Instantly raises an exception rather than trying to make a PV"
   ]
  },
  {
   "cell_type": "markdown",
   "metadata": {},
   "source": [
    "### Challenges:\n",
    "\n",
    "1. Extend the device to have attributes for the other PVs listed on `http://pythonworkshop.staff.synchrotron.org.au/iocs/<your-ioc-prefix>`.\n",
    "2. Use the `Device.save_state()` to capture the state of all PVs into a dictionary. Store this in a variable.\n",
    "3. Change the devices setpoint and then restore the state with the `Device.restore_state()` method.\n",
    "4. Save the devices state to a text file with `Device.write_state()`."
   ]
  },
  {
   "cell_type": "markdown",
   "metadata": {
    "slideshow": {
     "slide_type": "slide"
    }
   },
   "source": [
    "## Subclassing `Device`\n",
    "\n",
    "Extra functionality can be added to the `Device` class by subclassing it. For example:"
   ]
  },
  {
   "cell_type": "code",
   "execution_count": null,
   "metadata": {
    "collapsed": false
   },
   "outputs": [],
   "source": [
    "class MyDevice(epics.Device):\n",
    "    def __init__(self, aliases=None, mutable=False, **kws):\n",
    "        if aliases is None:\n",
    "            aliases = {}\n",
    "        aliases.update({'target': 'SETPOINT',\n",
    "                        'readback': 'READBACK',\n",
    "                        'text_array': 'LONG_STRING'})\n",
    "        super().__init__(aliases=aliases, mutable=mutable, **kws)\n",
    "    \n",
    "    def go_to_setpoint(self, setpoint):\n",
    "        self.target = setpoint\n",
    "        while abs(self.readback - setpoint) > .1:\n",
    "            print('Moving...', flush=True)\n",
    "            sleep(.5)\n",
    "\n",
    "\n",
    "my_device = MyDevice(prefix=PREFIX + ':')"
   ]
  },
  {
   "cell_type": "code",
   "execution_count": null,
   "metadata": {
    "collapsed": false
   },
   "outputs": [],
   "source": [
    "my_device.go_to_setpoint(1.9)"
   ]
  },
  {
   "cell_type": "markdown",
   "metadata": {},
   "source": [
    "### Challenge:\n",
    "\n",
    "Add a property to the class to get the `LONG_STRING` PVs using `my_device.text`. Hint: you can call the `.get()` method on a PV inside a device using `self.get('alias', ...)`."
   ]
  },
  {
   "cell_type": "markdown",
   "metadata": {
    "slideshow": {
     "slide_type": "slide"
    }
   },
   "source": [
    "# Other features\n",
    "\n",
    "* Alarm class http://pyepics.github.io/pyepics/alarm.html\n",
    "* wxPython Widgets http://pyepics.github.io/pyepics/wx.html\n",
    "* autosave http://pyepics.github.io/pyepics/autosave.html\n",
    "* PyEPICS Applications http://pyepics.github.io/epicsapps/"
   ]
  },
  {
   "cell_type": "markdown",
   "metadata": {
    "slideshow": {
     "slide_type": "slide"
    }
   },
   "source": [
    "# Final thoughts\n",
    "\n",
    "* PyEPICS documentation is very good:\n",
    "  https://pyepics.github.io/pyepics/\n",
    "* The PyEPICS code is very readable - dive in at:\n",
    "  https://github.com/pyepics/pyepics\n",
    "* Don't be afraid to report bugs!\n",
    "* Recommendations available on the [Confluence PyEPICS page](https://confluence.synchrotron.org.au/display/LANG/PyEPICS)"
   ]
  },
  {
   "cell_type": "code",
   "execution_count": null,
   "metadata": {
    "collapsed": true
   },
   "outputs": [],
   "source": []
  }
 ],
 "metadata": {
  "kernelspec": {
   "display_name": "Python 3",
   "language": "python",
   "name": "python3"
  },
  "language_info": {
   "codemirror_mode": {
    "name": "ipython",
    "version": 3
   },
   "file_extension": ".py",
   "mimetype": "text/x-python",
   "name": "python",
   "nbconvert_exporter": "python",
   "pygments_lexer": "ipython3",
   "version": "3.5.2"
  },
  "widgets": {
   "state": {
    "15ef915a761f46ec9a9a4414293e2bf8": {
     "views": [
      {
       "cell_index": 62
      }
     ]
    },
    "17c65823169e4d0fb4fe5f31c58c4f2b": {
     "views": [
      {
       "cell_index": 61
      }
     ]
    },
    "37bbc624392d4bee85761e66fdf0323f": {
     "views": [
      {
       "cell_index": 61
      }
     ]
    },
    "4a026070a0f145af9aab7c0b3a80fea4": {
     "views": [
      {
       "cell_index": 61
      }
     ]
    },
    "4ef3c9698cc8438bba6a8e0d4cd554fa": {
     "views": [
      {
       "cell_index": 61
      }
     ]
    },
    "5a974f4ecab6413a867731eb143d2c75": {
     "views": [
      {
       "cell_index": 61
      }
     ]
    },
    "639852baddf345e5b861dad0541578c1": {
     "views": [
      {
       "cell_index": 53
      }
     ]
    },
    "7ceda13be07b42e8b6dc0b8a8daec8a2": {
     "views": [
      {
       "cell_index": 61
      }
     ]
    },
    "8edf8dfecb7f444ab21655bd3be8abd0": {
     "views": [
      {
       "cell_index": 68
      }
     ]
    },
    "9616cb5592264e138eb542dd46b12e62": {
     "views": [
      {
       "cell_index": 61
      }
     ]
    },
    "9975ef473c8643479f883129b8a82387": {
     "views": [
      {
       "cell_index": 68
      }
     ]
    },
    "a75fa56b671f4916be40eef2ff8d48a7": {
     "views": [
      {
       "cell_index": 61
      }
     ]
    },
    "bd30bcbc837445e199edba6c943171c6": {
     "views": [
      {
       "cell_index": 61
      }
     ]
    },
    "bfd6711823b64a7e808184d4a45273d2": {
     "views": [
      {
       "cell_index": 61
      }
     ]
    },
    "d0828a9c4d824f8d87a1f04433a41851": {
     "views": [
      {
       "cell_index": 61
      }
     ]
    },
    "d560c19049064305ae91e388998329cc": {
     "views": [
      {
       "cell_index": 61
      }
     ]
    },
    "d7318e0a007a4fcda3935216878dfcd9": {
     "views": [
      {
       "cell_index": 61
      }
     ]
    },
    "f8bff0d4f24b4be099ec32dd37c5aa43": {
     "views": [
      {
       "cell_index": 62
      }
     ]
    },
    "ff21157b83cd4db6ac1748f9b30184b3": {
     "views": [
      {
       "cell_index": 68
      }
     ]
    }
   },
   "version": "1.2.0"
  }
 },
 "nbformat": 4,
 "nbformat_minor": 0
}
