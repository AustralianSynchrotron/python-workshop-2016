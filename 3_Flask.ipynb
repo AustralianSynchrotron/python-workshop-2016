{
 "cells": [
  {
   "cell_type": "markdown",
   "metadata": {},
   "source": [
    "# Flask Workshop\n",
    "\n",
    "### Australian Synchrotron - 15/12/2016"
   ]
  },
  {
   "cell_type": "markdown",
   "metadata": {},
   "source": [
    "## What is Flask?\n",
    "\n",
    "- Python library\n",
    "- Server-side web micro-framework for Python\n",
    "- Unopinionated\n",
    "- Excellent documentation\n",
    "\n",
    "Most importantly: A lot of fun!\n",
    "\n",
    "## Resources\n",
    "\n",
    "### Main\n",
    "- [Main website](http://flask.pocoo.org/)\n",
    "- [Author's tutorial](http://flask.pocoo.org/docs/0.11/tutorial/)\n",
    "\n",
    "### Miguel Grinberg\n",
    "- [The Mega Tutorial](https://blog.miguelgrinberg.com/post/the-flask-mega-tutorial-part-i-hello-world)\n",
    "- [His book](http://shop.oreilly.com/product/0636920031116.do)\n",
    "\n",
    "### Australian Synchrotron\n",
    "- [Confluence](https://confluence.synchrotron.org.au/pages/viewpage.action?pageId=7144364)\n",
    "- [Talk (highly recommended for learning the basics of webservices)](https://events.synchrotron.org.au/event/35/session/0/material/0/0.pdf)"
   ]
  },
  {
   "cell_type": "markdown",
   "metadata": {},
   "source": [
    "## Prerequisites\n",
    "\n",
    "### Software\n",
    "- Python 3.5\n",
    "- Web Browser\n",
    "- Text editor or Python IDE\n",
    "- Terminal/Shell/cmd.exe\n",
    "- Conda or pip virtual environment\n",
    "\n",
    "### Python Packages (via conda install or pip install)\n",
    "- Flask\n",
    "- flask-bootstrap\n",
    "- httpie"
   ]
  },
  {
   "cell_type": "markdown",
   "metadata": {},
   "source": [
    "## Goal of this tutorial\n",
    "\n",
    "In this tutorial we will create a little todo web application. Users will be able to create a list of todo items.\n",
    "\n",
    "At the end, you will have the skills\n",
    "\n",
    "- to write simple websites and webservices\n",
    "- send HTTP requests to a webservice\n",
    "- master the creation of dynamic text output via jinja templates"
   ]
  },
  {
   "cell_type": "markdown",
   "metadata": {},
   "source": [
    "## Let's get started!\n",
    "\n",
    "Open the text editor or Python IDE (PyCharm, Spyder, ...) of your choice.\n",
    "\n",
    "Create an empty file called `app.py` (or any other name you fancy)."
   ]
  },
  {
   "cell_type": "markdown",
   "metadata": {},
   "source": [
    "Add the following line in order to import Flask:"
   ]
  },
  {
   "cell_type": "code",
   "execution_count": null,
   "metadata": {
    "collapsed": false
   },
   "outputs": [],
   "source": [
    "from flask import Flask"
   ]
  },
  {
   "cell_type": "markdown",
   "metadata": {},
   "source": [
    "Create an `app` object, by adding:"
   ]
  },
  {
   "cell_type": "code",
   "execution_count": null,
   "metadata": {
    "collapsed": true
   },
   "outputs": [],
   "source": [
    "app = Flask(__name__)"
   ]
  },
  {
   "cell_type": "markdown",
   "metadata": {},
   "source": [
    "In order to run the Flask application add the following code to the end of the file"
   ]
  },
  {
   "cell_type": "code",
   "execution_count": null,
   "metadata": {
    "collapsed": true
   },
   "outputs": [],
   "source": [
    "if __name__ == '__main__':\n",
    "    app.run()"
   ]
  },
  {
   "cell_type": "markdown",
   "metadata": {},
   "source": [
    "Now, run the application by either clicking the run button in your IDE or by executing:"
   ]
  },
  {
   "cell_type": "code",
   "execution_count": null,
   "metadata": {
    "collapsed": true
   },
   "outputs": [],
   "source": [
    "python app.py"
   ]
  },
  {
   "cell_type": "markdown",
   "metadata": {},
   "source": [
    "The application should start and tell you that it is running at http://127.0.0.1:5000/. Excellent! Open a browser and enter this URL. You will be greeted with a \"404 Not Found\" error.\n",
    "\n",
    "What went wrong?\n",
    "\n",
    "Nothing really. Flask simply doesn't know what to do with the request from the browser. So far you have the application running, but you don't have any website yet. Let's change this. Add the following between the `app` creation line and the line `if __name__ == '__main__'`:"
   ]
  },
  {
   "cell_type": "code",
   "execution_count": null,
   "metadata": {
    "collapsed": true
   },
   "outputs": [],
   "source": [
    "@app.route('/')\n",
    "def index():\n",
    "    return 'Hello Synchrotron!'"
   ]
  },
  {
   "cell_type": "markdown",
   "metadata": {},
   "source": [
    "This tells Flask to execute the function `index()` when you browse to the root URL. The function then returns the string \"Hello Synchrotron\".\n",
    "\n",
    "Restart the running Flask application and refresh the browser. It should show \"Hello Synchrotron!\". Much better!\n",
    "\n",
    "However, it is tedious to restart the Flask application every time you change the source code. Switch the Flask app to debug mode, and it will automatically restart everytime a file is changed. Simply set the `debug` flag in the last line to `True`:"
   ]
  },
  {
   "cell_type": "code",
   "execution_count": null,
   "metadata": {
    "collapsed": true
   },
   "outputs": [],
   "source": [
    "app.run(debug=True)"
   ]
  },
  {
   "cell_type": "markdown",
   "metadata": {},
   "source": [
    "**Task**: Now change the returned string in the `index()` method to something else, save the file and watch how the server is automatically restarted. The only thing you have to do from now on is to refresh the browser after you changed some code."
   ]
  },
  {
   "cell_type": "markdown",
   "metadata": {},
   "source": [
    "## Routing\n",
    "\n",
    "Having a single route is nice, but not very exciting. Let's add another route:"
   ]
  },
  {
   "cell_type": "code",
   "execution_count": null,
   "metadata": {
    "collapsed": false
   },
   "outputs": [],
   "source": [
    "@app.route('/user/steve')\n",
    "def show_user():\n",
    "    return 'Hello Steve!'"
   ]
  },
  {
   "cell_type": "markdown",
   "metadata": {},
   "source": [
    "**Task**: Which URL do you have to enter now in order to see the text \"Hello Steve?\""
   ]
  },
  {
   "cell_type": "markdown",
   "metadata": {},
   "source": [
    "### Dynamic routes\n",
    "\n",
    "Most likely your name is not Steve, so the output doesn't make any sense. We have to make this page a bit more dynamic by using template parameters. Change the decorator to: "
   ]
  },
  {
   "cell_type": "code",
   "execution_count": null,
   "metadata": {
    "collapsed": true
   },
   "outputs": [],
   "source": [
    "@app.route('/user/<username>')"
   ]
  },
  {
   "cell_type": "markdown",
   "metadata": {},
   "source": [
    "And add a parameter called `name` to the function:"
   ]
  },
  {
   "cell_type": "code",
   "execution_count": null,
   "metadata": {
    "collapsed": true
   },
   "outputs": [],
   "source": [
    "def show_user(username):"
   ]
  },
  {
   "cell_type": "markdown",
   "metadata": {},
   "source": [
    "This will store anything you enter after \"/user/\" in your URL into the variable `username`."
   ]
  },
  {
   "cell_type": "markdown",
   "metadata": {},
   "source": [
    "**Task**: Change the returned string such that it greets you with the name entered in the URL. Try it out by entering various names."
   ]
  },
  {
   "cell_type": "markdown",
   "metadata": {},
   "source": [
    "### Parameter types\n",
    "\n",
    "The template parameters are not restricted to strings. You can, for example, also accept integer values and let Flask know that you only accept integers. Give this a go:"
   ]
  },
  {
   "cell_type": "code",
   "execution_count": null,
   "metadata": {
    "collapsed": true
   },
   "outputs": [],
   "source": [
    "@app.route('/item/<int:item_id>')\n",
    "def show_item(item_id):\n",
    "    return 'This is item number {}'.format(item_id)"
   ]
  },
  {
   "cell_type": "markdown",
   "metadata": {},
   "source": [
    "**Task**: Try numbers, but also strings. Check what happens. There are more types available. See here: http://flask.pocoo.org/docs/0.11/quickstart/#variable-rules. Try them out."
   ]
  },
  {
   "cell_type": "markdown",
   "metadata": {},
   "source": [
    "### Request methods\n",
    "\n",
    "Every time you enter a URL into a browser, a so-called GET HTTP request is sent to the webserver. But you are not restricted to GET requests. HTTP defines a number of methods. You can find an overview on page 4 of our [seminar talk](https://events.synchrotron.org.au/event/35/session/0/material/0/0.pdf)."
   ]
  },
  {
   "cell_type": "markdown",
   "metadata": {},
   "source": [
    "Let's create a function that can be used to create a new todo item. We will use the POST method for this. The list of methods that a route accepts are specified in the `methods` parameter. Add the following function to your code:"
   ]
  },
  {
   "cell_type": "code",
   "execution_count": null,
   "metadata": {
    "collapsed": true
   },
   "outputs": [],
   "source": [
    "@app.route('/item/add', methods=['POST'])\n",
    "def add_item():\n",
    "    return 'Added item'"
   ]
  },
  {
   "cell_type": "markdown",
   "metadata": {},
   "source": [
    "**Task**: Try to call this route in your browser and observe what happens.\n",
    "\n",
    "A web browser only sends a GET request to the web server when you enter a URL. But this route is limited to POST requests!"
   ]
  },
  {
   "cell_type": "markdown",
   "metadata": {},
   "source": [
    "We will have to use a different way for testing this route. We recommend the `httpie` tool, but please feel free to use `curl` or your preferred method. Using `httpie`, enter the following into a terminal or shell:"
   ]
  },
  {
   "cell_type": "code",
   "execution_count": null,
   "metadata": {
    "collapsed": true
   },
   "outputs": [],
   "source": [
    "http POST 127.0.0.1:5000/item/add"
   ]
  },
  {
   "cell_type": "markdown",
   "metadata": {},
   "source": [
    "The reponse from http should be:"
   ]
  },
  {
   "cell_type": "code",
   "execution_count": null,
   "metadata": {
    "collapsed": true
   },
   "outputs": [],
   "source": [
    "HTTP/1.0 200 OK"
   ]
  },
  {
   "cell_type": "markdown",
   "metadata": {},
   "source": [
    "together with the text: `Added item`."
   ]
  },
  {
   "cell_type": "markdown",
   "metadata": {},
   "source": [
    "Great! So we can send a POST request, but we are not sending any information with our request. Let's change this:"
   ]
  },
  {
   "cell_type": "code",
   "execution_count": null,
   "metadata": {
    "collapsed": true
   },
   "outputs": [],
   "source": [
    "http --form POST 127.0.0.1:5000/item/add username=Steve\n",
    "    task='Write Nature paper'"
   ]
  },
  {
   "cell_type": "markdown",
   "metadata": {},
   "source": [
    "This request sends so-called url-form-encoded data to our little webserver. Think of it as a list of key=value pairs. The idea behind the request is to tell our webserver that we want to add a new todo item with the task \"Write Nature paper\" and assign it to the user \"Steve\".\n",
    "\n",
    "The next step is to modify our webserver to handle the data. The incoming request is available from a global request object. Let's start by importing this global request object. Modify the first line of your script to:"
   ]
  },
  {
   "cell_type": "code",
   "execution_count": null,
   "metadata": {
    "collapsed": true
   },
   "outputs": [],
   "source": [
    "from flask import Flask, request"
   ]
  },
  {
   "cell_type": "markdown",
   "metadata": {},
   "source": [
    "Now we can access the data that has been sent with the request by using the `form` attribute of the request object. So the username and task are available from:"
   ]
  },
  {
   "cell_type": "code",
   "execution_count": null,
   "metadata": {
    "collapsed": true
   },
   "outputs": [],
   "source": [
    "request.form['username']"
   ]
  },
  {
   "cell_type": "markdown",
   "metadata": {},
   "source": [
    "and"
   ]
  },
  {
   "cell_type": "code",
   "execution_count": null,
   "metadata": {
    "collapsed": true
   },
   "outputs": [],
   "source": [
    "request.form['task']"
   ]
  },
  {
   "cell_type": "markdown",
   "metadata": {},
   "source": [
    "**Task**: Modify the `add_item()` function such that it returns a string containing the provided username and task. Test your code by using the `http` call from above."
   ]
  },
  {
   "cell_type": "markdown",
   "metadata": {},
   "source": [
    "Ok, so far we can send data to the webserver and the webserver can read the incoming data. But without storing the data, what is even the point of sending any data to the application?\n",
    "\n",
    "In order to keep things simple, we will store the data into a JSON file on disk.\n",
    "\n",
    "**Please note** this is not something you should do in a production environment with mutliple users accessing the webserver at the same time. Because while your webserver handles one request another request might come in and potentially overwrite the JSON file the first request created."
   ]
  },
  {
   "cell_type": "markdown",
   "metadata": {},
   "source": [
    "In order to make json available, add it to the `import` statements at the top of the script:"
   ]
  },
  {
   "cell_type": "code",
   "execution_count": null,
   "metadata": {
    "collapsed": true
   },
   "outputs": [],
   "source": [
    "from flask import Flask, request\n",
    "import json"
   ]
  },
  {
   "cell_type": "markdown",
   "metadata": {},
   "source": [
    "Below the `import` statement, define the location and name of the JSON file, so we have a single spot where this information is defined."
   ]
  },
  {
   "cell_type": "code",
   "execution_count": null,
   "metadata": {
    "collapsed": true
   },
   "outputs": [],
   "source": [
    "JSON_FILE = 'todo_items.json'"
   ]
  },
  {
   "cell_type": "markdown",
   "metadata": {},
   "source": [
    "To get started, let's create an empty JSON file that will store all our todo items. In the directory of your Python file, create a file called `todo_items.json` with the following content:"
   ]
  },
  {
   "cell_type": "code",
   "execution_count": null,
   "metadata": {
    "collapsed": true
   },
   "outputs": [],
   "source": [
    "{\n",
    "  \"items\": []\n",
    "}"
   ]
  },
  {
   "cell_type": "markdown",
   "metadata": {},
   "source": [
    "Now we are ready to store the data. First open the existing JSON file in your `add_item()` function:"
   ]
  },
  {
   "cell_type": "code",
   "execution_count": null,
   "metadata": {
    "collapsed": true
   },
   "outputs": [],
   "source": [
    "@app.route('/item/add', methods=['PUT'])\n",
    "def add_item():\n",
    "    with open(JSON_FILE) as data_file:\n",
    "        item_dict = json.load(data_file)\n",
    "\n",
    "    return 'Added item'"
   ]
  },
  {
   "cell_type": "markdown",
   "metadata": {},
   "source": [
    "This opens the file defined in `JSON_FILE` and passes a file object (`data_file`) to the `load()` function. The result is a standard Python dictionary in `item_dict`.\n",
    "\n",
    "**Task**: Test whether it works and it can find the file.\n",
    "\n",
    "Before we move on and start adding the incoming data to the `item_dict`, let's change the `return` statement so that it prints the content of `item_dict`. Flask has the very handy `jsonify` function built in. It takes a Python dictionary and constructs a valid JSON HTTP response. In order to make it available, add it to your `import` statements:"
   ]
  },
  {
   "cell_type": "code",
   "execution_count": null,
   "metadata": {
    "collapsed": true
   },
   "outputs": [],
   "source": [
    "from flask import Flask, request, jsonify\n",
    "import json"
   ]
  },
  {
   "cell_type": "markdown",
   "metadata": {},
   "source": [
    "Then change your return statement in `add_item()` to:"
   ]
  },
  {
   "cell_type": "code",
   "execution_count": null,
   "metadata": {
    "collapsed": true
   },
   "outputs": [],
   "source": [
    "return jsonify(item_dict)"
   ]
  },
  {
   "cell_type": "markdown",
   "metadata": {},
   "source": [
    "**Task**: Send a request with `http` and check the output."
   ]
  },
  {
   "cell_type": "markdown",
   "metadata": {},
   "source": [
    "**Task**: Append a dictionary with the `username` and `task` from the `request.form` to the `item_dict`, such that the `item_dict` looks something like this:"
   ]
  },
  {
   "cell_type": "code",
   "execution_count": null,
   "metadata": {
    "collapsed": true
   },
   "outputs": [],
   "source": [
    "{\n",
    "    \"items\": [\n",
    "        {\n",
    "            \"task\": \"The task provided by the http request\",\n",
    "            \"username\": \"The username provided by the http request\"\n",
    "        }\n",
    "    ]\n",
    "}"
   ]
  },
  {
   "cell_type": "markdown",
   "metadata": {},
   "source": [
    "Now we are ready to save the data in `item_dict` back to disk. Add the following line before the `return` statement to the `add_item()` function:"
   ]
  },
  {
   "cell_type": "code",
   "execution_count": null,
   "metadata": {
    "collapsed": true
   },
   "outputs": [],
   "source": [
    "with open(JSON_FILE, 'w') as data_file:\n",
    "    json.dump(item_dict, data_file)"
   ]
  },
  {
   "cell_type": "markdown",
   "metadata": {},
   "source": [
    "**Task**: Call the POST http request a couple of times with different values for `username` and `task` and check its output. Also, have a look at the JSON file on disk."
   ]
  },
  {
   "cell_type": "markdown",
   "metadata": {},
   "source": [
    "## Templates\n",
    "\n",
    "Let's return to our webpage, the part that our users see. So far we only print simple, static text. Next, we will replace this with the list of tasks that we have stored in our JSON file.\n",
    "\n",
    "**Task**: Change the `index()` function that it loads the JSON file into a `item_dict` and returns a string of the usernames and tasks contained in the `item_dict`."
   ]
  },
  {
   "cell_type": "markdown",
   "metadata": {},
   "source": [
    " "
   ]
  },
  {
   "cell_type": "markdown",
   "metadata": {},
   "source": [
    "Now imagine you would like to create a good looking website. Of course, you could return the full source code for the HTML website. Something like this:"
   ]
  },
  {
   "cell_type": "code",
   "execution_count": null,
   "metadata": {
    "collapsed": true
   },
   "outputs": [],
   "source": [
    "    return \"\"\"\n",
    "           <!DOCTYPE html>\n",
    "           <html lang=\"en\">\n",
    "           <head>\n",
    "               <meta charset=\"UTF-8\">\n",
    "               <title>ToDo</title>\n",
    "          </head>\n",
    "          <body>\n",
    "              \n",
    "         </body>\n",
    "         </html>\n",
    "\"\"\".format(item_dict_output)"
   ]
  },
  {
   "cell_type": "markdown",
   "metadata": {},
   "source": [
    "While this works, it will get ugly pretty quickly for large HTML pages. Enter the fantastic world of templates!\n",
    "\n",
    "The idea is to store the HTML page in a separate file and simply replace certain parts of the file with dynamic content. Such as the content from the `item_dict`.\n",
    "\n",
    "\n",
    "Before we start playing around with templates, we need a place where they can live first. Create a directory called `templates` next to your Flask Python file. Inside the templates directory create a file `index.html` with the following content:"
   ]
  },
  {
   "cell_type": "code",
   "execution_count": null,
   "metadata": {
    "collapsed": true
   },
   "outputs": [],
   "source": [
    "<!DOCTYPE html>\n",
    "<html lang=\"en\">\n",
    "<head>\n",
    "    <meta charset=\"UTF-8\">\n",
    "    <title>ToDo</title>\n",
    "</head>\n",
    "<body>\n",
    "\n",
    "</body>\n",
    "</html>"
   ]
  },
  {
   "cell_type": "markdown",
   "metadata": {},
   "source": [
    "In order to render the template and send it to the browser Flask provides the `render_template` function. Import it first:"
   ]
  },
  {
   "cell_type": "code",
   "execution_count": null,
   "metadata": {
    "collapsed": true
   },
   "outputs": [],
   "source": [
    "from flask import Flask, request, jsonify, render_template\n",
    "import json"
   ]
  },
  {
   "cell_type": "markdown",
   "metadata": {},
   "source": [
    "Then simply call it with the name of the template as the parameter in your `return` statement in the `index()` function:"
   ]
  },
  {
   "cell_type": "code",
   "execution_count": null,
   "metadata": {
    "collapsed": true
   },
   "outputs": [],
   "source": [
    "return render_template('index.html')"
   ]
  },
  {
   "cell_type": "markdown",
   "metadata": {},
   "source": [
    "If you now refresh your browser you will see an empty page. Let's fill it with the content from `item_dict`. The first task is to hand the todo items stored in `item_dict` over to the template. That is very simple to accomplish. Any additional keyword parameter in `render_template()` is made available in the template. So the following does the job nicely:"
   ]
  },
  {
   "cell_type": "code",
   "execution_count": null,
   "metadata": {
    "collapsed": true
   },
   "outputs": [],
   "source": [
    "return render_template('index.html', items=item_dict['items'])"
   ]
  },
  {
   "cell_type": "markdown",
   "metadata": {},
   "source": [
    "The second task is to modify the template such that the todo items are rendered as valid HTML code. Let's start by displaying the first todo item only (that is `items[0]`). Flask uses a template engine/language called Jinja. In Jinja a variable wrapped in two curly braces is replaced with its value when the page is rendered. Try it by adding the following to the body of `index.html`:"
   ]
  },
  {
   "cell_type": "code",
   "execution_count": null,
   "metadata": {
    "collapsed": true
   },
   "outputs": [],
   "source": [
    "Username: {{ items[0]['username'] }}"
   ]
  },
  {
   "cell_type": "markdown",
   "metadata": {},
   "source": [
    "**Task**: Refresh the page and check the result. Add the task of the first todo item as well. Wrap the jinja templates in `<ul><li></li></ul>` tags so they are rendered as a list. Add the second todo item."
   ]
  },
  {
   "cell_type": "markdown",
   "metadata": {},
   "source": [
    "Obviously, for multiple items/an unknown number of items this is approach does not really work. But Jinja provides a solution with the\n",
    "\n",
    "`{% for %} {% endfor %}`\n",
    "\n",
    "statement. Modify your `index.html` template such that it iterates over all todo items:"
   ]
  },
  {
   "cell_type": "code",
   "execution_count": null,
   "metadata": {
    "collapsed": true
   },
   "outputs": [],
   "source": [
    "<body>\n",
    "    <ul>\n",
    "    {% for item in items  %}\n",
    "    <li>\n",
    "    [See Task]\n",
    "    </li>\n",
    "    {% endfor  %}\n",
    "    </ul>\n",
    "</body>"
   ]
  },
  {
   "cell_type": "markdown",
   "metadata": {},
   "source": [
    "**Task**: Fill in the part where it says `[See Task]` such that it prints the item's username and task for each todo item."
   ]
  },
  {
   "cell_type": "markdown",
   "metadata": {},
   "source": [
    "## Add a form\n",
    "\n",
    "So far we have added data to the JSON file via calls to `http`. However, users of our webpage won't have access to this. Therefore, we will add a little form such that users can enter data. Simply add the following HTML code to your HTML file:"
   ]
  },
  {
   "cell_type": "code",
   "execution_count": null,
   "metadata": {
    "collapsed": true
   },
   "outputs": [],
   "source": [
    "<form action=\"/item/add\" method=\"POST\">\n",
    "  Username:<br>\n",
    "  <input type=\"text\" name=\"username\">\n",
    "  <br>\n",
    "  Task:<br>\n",
    "  <input type=\"text\" name=\"task\">\n",
    "  <br><br>\n",
    "  <input type=\"submit\" value=\"Submit\">\n",
    "</form>"
   ]
  },
  {
   "cell_type": "markdown",
   "metadata": {},
   "source": [
    "Check out the beauty of our code. We already have the `/item/add` route accepting POST requests set up! This simple HTML form does exactly the same as our previous `http` requests on the command line: It sends the url-form-encoded data via a POST request to `/item/add`.\n",
    "\n",
    "**Task**: Try adding a few entries and watch what happens.\n",
    "\n",
    "Not happy that after clicking `Submit` the return value from `/item/add` is displayed? No problem just redirect the user back to the `index` page.\n",
    "\n",
    "Add the following functions to the Flask `import` statements:"
   ]
  },
  {
   "cell_type": "code",
   "execution_count": null,
   "metadata": {
    "collapsed": true
   },
   "outputs": [],
   "source": [
    "redirect, url_for"
   ]
  },
  {
   "cell_type": "markdown",
   "metadata": {},
   "source": [
    "And change the return statement to:"
   ]
  },
  {
   "cell_type": "code",
   "execution_count": null,
   "metadata": {
    "collapsed": true
   },
   "outputs": [],
   "source": [
    "return redirect(url_for('index'))"
   ]
  },
  {
   "cell_type": "markdown",
   "metadata": {},
   "source": [
    "## Bonus: Make it beautiful\n",
    "\n",
    "The current page looks a bit boring. Very 80's. Let's change that. We will use Bootstrap (http://getbootstrap.com/) for beautifying the page. Fortunately, there is a Flask extension for Bootstrap, which makes it very simple to add style.\n",
    "\n",
    "Import the `Bootstrap` class from the extension:"
   ]
  },
  {
   "cell_type": "code",
   "execution_count": null,
   "metadata": {
    "collapsed": true
   },
   "outputs": [],
   "source": [
    "from flask_bootstrap import Bootstrap"
   ]
  },
  {
   "cell_type": "markdown",
   "metadata": {},
   "source": [
    "Now tell the system to use Bootstrap by wrapping the application object like this:"
   ]
  },
  {
   "cell_type": "code",
   "execution_count": null,
   "metadata": {
    "collapsed": true
   },
   "outputs": [],
   "source": [
    "app = Flask(__name__)\n",
    "Bootstrap(app)"
   ]
  },
  {
   "cell_type": "markdown",
   "metadata": {},
   "source": [
    "We are almost done. The last thing left to do is to modify the HTML template file. Remove everything in your template file, except the code between the `<body></body>` tags (get rid of the `<body>` tags as well).\n",
    "\n",
    "Add the following to the top of your HTML file:"
   ]
  },
  {
   "cell_type": "code",
   "execution_count": null,
   "metadata": {
    "collapsed": true
   },
   "outputs": [],
   "source": [
    "{% extends \"bootstrap/base.html\" %}\n",
    "{% block title %}Todo{% endblock %}"
   ]
  },
  {
   "cell_type": "markdown",
   "metadata": {},
   "source": [
    "Those are special Jinja statements that allow to extend an existing template with additional content. You could also refer to it as template inheritance. The `base.html` file defines so called `blocks` that you can use in order to ingest your content. The `title` block is one of them.\n",
    "\n",
    "Another one is the `content` block. As you might have guessed by now, we simply have to wrap all your carefully hand crafted HTML code inside the following statements."
   ]
  },
  {
   "cell_type": "code",
   "execution_count": null,
   "metadata": {
    "collapsed": true
   },
   "outputs": [],
   "source": [
    "{% block content %}\n",
    "\n",
    "{% endblock %}"
   ]
  },
  {
   "cell_type": "markdown",
   "metadata": {},
   "source": [
    "Refresh your Browser and the page looks a lot better."
   ]
  },
  {
   "cell_type": "markdown",
   "metadata": {},
   "source": [
    "## Bonus tasks"
   ]
  },
  {
   "cell_type": "markdown",
   "metadata": {},
   "source": [
    "- Implement the `@app.route('/user/<username>')` route such that it shows only the tasks for the specified username\n",
    "- Implement the `@app.route('/item/<int:item_id>')` route such that it shows the task given by the `item_id`"
   ]
  },
  {
   "cell_type": "code",
   "execution_count": null,
   "metadata": {
    "collapsed": true
   },
   "outputs": [],
   "source": []
  }
 ],
 "metadata": {
  "kernelspec": {
   "display_name": "Python 3",
   "language": "python",
   "name": "python3"
  },
  "language_info": {
   "codemirror_mode": {
    "name": "ipython",
    "version": 3
   },
   "file_extension": ".py",
   "mimetype": "text/x-python",
   "name": "python",
   "nbconvert_exporter": "python",
   "pygments_lexer": "ipython3",
   "version": "3.5.2"
  }
 },
 "nbformat": 4,
 "nbformat_minor": 1
}
